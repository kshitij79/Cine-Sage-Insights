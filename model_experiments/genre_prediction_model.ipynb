{
 "cells": [
  {
   "cell_type": "code",
   "execution_count": null,
   "metadata": {},
   "outputs": [],
   "source": [
    "!pip install transformers evaluate\n",
    "!pip install accelerate -U"
   ]
  },
  {
   "cell_type": "code",
   "execution_count": null,
   "metadata": {},
   "outputs": [],
   "source": [
    "import pandas as pd\n",
    "from transformers import AutoTokenizer, AutoModelForSequenceClassification, TrainingArguments, Trainer\n",
    "import torch\n",
    "from datasets import Dataset\n",
    "from sklearn.metrics import f1_score, roc_auc_score, accuracy_score"
   ]
  },
  {
   "cell_type": "code",
   "execution_count": null,
   "metadata": {},
   "outputs": [],
   "source": [
    "train_data = pd.read_csv('train_data.csv')\n",
    "test_data = pd.read_csv('test_data.csv')\n",
    "# Drop rows with empty overview\n",
    "train_data.dropna(subset=['overview'], inplace=True)\n",
    "test_data.dropna(subset=['overview'], inplace=True)"
   ]
  },
  {
   "cell_type": "code",
   "execution_count": null,
   "metadata": {},
   "outputs": [],
   "source": [
    "# Drop columns other than overview and columns starting with 'genre_'\n",
    "genre_cols = [col for col in train_data.columns if col.startswith('genre_')]\n",
    "NUM_GENRES = len(genre_cols)\n",
    "keep_cols = ['overview'] + genre_cols\n",
    "train_data = train_data[keep_cols]\n",
    "test_data = test_data[keep_cols]"
   ]
  },
  {
   "cell_type": "code",
   "execution_count": null,
   "metadata": {},
   "outputs": [],
   "source": [
    "id2genre = {i: genre for i, genre in enumerate(genre_cols)}\n",
    "genre2id = {genre: i for i, genre in id2genre.items()}\n",
    "genre2id"
   ]
  },
  {
   "cell_type": "code",
   "execution_count": null,
   "metadata": {},
   "outputs": [],
   "source": [
    "train_dataset = Dataset.from_pandas(train_data)\n",
    "test_dataset = Dataset.from_pandas(test_data)"
   ]
  },
  {
   "cell_type": "code",
   "execution_count": null,
   "metadata": {},
   "outputs": [],
   "source": [
    "tokenizer = AutoTokenizer.from_pretrained(\"distilbert-base-uncased\")\n",
    "\n",
    "def preprocess_data(batch):\n",
    "    encoding = tokenizer(batch['overview'], truncation=True)\n",
    "    genre_labels = []\n",
    "    for genre in genre_cols:\n",
    "        genre_labels.append(batch[genre])\n",
    "    encoding['labels'] = torch.tensor(genre_labels).T.float()\n",
    "    return encoding\n",
    "\n",
    "tokenized_train_dataset = train_dataset.map(preprocess_data, batched=True, remove_columns=train_dataset.column_names)\n",
    "tokenized_test_dataset = test_dataset.map(preprocess_data, batched=True, remove_columns=test_dataset.column_names)"
   ]
  },
  {
   "cell_type": "code",
   "execution_count": null,
   "metadata": {},
   "outputs": [],
   "source": [
    "tokenized_train_dataset.set_format('torch')\n",
    "tokenized_test_dataset.set_format('torch')"
   ]
  },
  {
   "cell_type": "code",
   "execution_count": null,
   "metadata": {},
   "outputs": [],
   "source": [
    "model = AutoModelForSequenceClassification.from_pretrained(\"distilbert-base-uncased\", num_labels=NUM_GENRES, problem_type=\"multi_label_classification\", id2label=id2genre, label2id=genre2id)"
   ]
  },
  {
   "cell_type": "code",
   "execution_count": null,
   "metadata": {},
   "outputs": [],
   "source": [
    "BATCH_SIZE = 16\n",
    "EPOCHS = 5\n",
    "LEARNING_RATE = 5e-5\n",
    "WEIGHT_DECAY = 0.01\n",
    "METRIC = 'f1'"
   ]
  },
  {
   "cell_type": "code",
   "execution_count": null,
   "metadata": {},
   "outputs": [],
   "source": [
    "args = TrainingArguments(\n",
    "    \"genre_prediction_model_training\",\n",
    "    evaluation_strategy = \"epoch\",\n",
    "    save_strategy = \"epoch\",\n",
    "    learning_rate=LEARNING_RATE,\n",
    "    per_device_train_batch_size=BATCH_SIZE,\n",
    "    per_device_eval_batch_size=BATCH_SIZE,\n",
    "    num_train_epochs=EPOCHS,\n",
    "    weight_decay=WEIGHT_DECAY,\n",
    "    load_best_model_at_end=True,\n",
    "    metric_for_best_model=METRIC,\n",
    ")\n",
    "\n",
    "def get_metrics(p):\n",
    "    predictions = p.predictions[0] if isinstance(p.predictions, tuple) else p.predictions\n",
    "    true_labels = p.label_ids\n",
    "    \n",
    "    probs = torch.nn.Sigmoid()(torch.tensor(predictions))\n",
    "    preds = (probs >= 0.5).long().numpy()\n",
    "    \n",
    "    return {\n",
    "        'accuracy': accuracy_score(true_labels, preds),\n",
    "        'f1': f1_score(true_labels, preds, average='micro'),\n",
    "        'roc_auc': roc_auc_score(true_labels, probs, average='micro')\n",
    "    }"
   ]
  },
  {
   "cell_type": "code",
   "execution_count": null,
   "metadata": {},
   "outputs": [],
   "source": [
    "trainer = Trainer(\n",
    "    model,\n",
    "    args,\n",
    "    train_dataset=tokenized_train_dataset,\n",
    "    eval_dataset=tokenized_test_dataset,\n",
    "    tokenizer=tokenizer,\n",
    "    compute_metrics=get_metrics\n",
    ")"
   ]
  },
  {
   "cell_type": "code",
   "execution_count": null,
   "metadata": {},
   "outputs": [],
   "source": [
    "trainer.train()"
   ]
  },
  {
   "cell_type": "code",
   "execution_count": null,
   "metadata": {},
   "outputs": [],
   "source": [
    "trainer.evaluate()"
   ]
  },
  {
   "cell_type": "code",
   "execution_count": null,
   "metadata": {},
   "outputs": [],
   "source": [
    "trainer.save_model('genre_prediction_multilabel_classification_model')"
   ]
  },
  {
   "cell_type": "code",
   "execution_count": null,
   "metadata": {},
   "outputs": [],
   "source": [
    "# Run 3 sample predictions\n",
    "test_movies = [\n",
    "    {\n",
    "        'title': 'Oppenheimer',\n",
    "        'overview': \"The story of American scientist, J. Robert Oppenheimer, and his role in the development of the atomic bomb.\",\n",
    "        'genre_list': ['Drama', 'History', 'Thriller']\n",
    "    },\n",
    "    {\n",
    "        'title': 'Barbie',\n",
    "        'overview': \"Barbie suffers a crisis that leads her to question her world and her existence.\",\n",
    "        'genre_list': ['Adventure', 'Comedy', 'Fantasy']\n",
    "    },\n",
    "    {\n",
    "        'title': 'Everything Everywhere All at Once',\n",
    "        'overview': \"A middle-aged Chinese immigrant is swept up into an insane adventure in which she alone can save existence by exploring other universes and connecting with the lives she could have led.\",\n",
    "        'genre_list': ['Action', 'Adventure', 'Comedy']\n",
    "    }\n",
    "]\n",
    "\n",
    "encoding = tokenizer([movie['overview'] for movie in test_movies], truncation=True, padding=True, return_tensors='pt')\n",
    "\n",
    "encoding = {key: val.to(trainer.model.device) for key, val in encoding.items()}\n",
    "out = model(**encoding)\n",
    "\n",
    "probs = torch.nn.Sigmoid()(out.logits)\n",
    "preds = (probs >= 0.5).long().cpu().numpy()\n",
    "for i, movie in enumerate(test_movies):\n",
    "    movie['predicted_genres'] = [id2genre[i].split('_')[1] for i, pred in enumerate(preds[i]) if pred == 1]\n",
    "    movie['predicted_genres_probs'] = {id2genre[i].split('_')[1]: prob.item() for i, prob in enumerate(probs[i])}\n",
    "    movie['predicted_genres_probs'] = {k: v for k, v in sorted(movie['predicted_genres_probs'].items(), key=lambda item: item[1], reverse=True)}\n",
    "    print(movie)"
   ]
  }
 ],
 "metadata": {
  "kernelspec": {
   "display_name": "Python 3",
   "language": "python",
   "name": "python3"
  },
  "language_info": {
   "codemirror_mode": {
    "name": "ipython",
    "version": 3
   },
   "file_extension": ".py",
   "mimetype": "text/x-python",
   "name": "python",
   "nbconvert_exporter": "python",
   "pygments_lexer": "ipython3",
   "version": "3.9.1"
  }
 },
 "nbformat": 4,
 "nbformat_minor": 2
}
