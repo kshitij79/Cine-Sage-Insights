{
  "cells": [
    {
      "cell_type": "code",
      "execution_count": 1,
      "metadata": {
        "colab": {
          "base_uri": "https://localhost:8080/"
        },
        "id": "QKjt0U2gHO-d",
        "outputId": "2060c1cd-95e7-422a-f369-19e3eec1d264"
      },
      "outputs": [
        {
          "output_type": "stream",
          "name": "stdout",
          "text": [
            "Requirement already satisfied: transformers in /usr/local/lib/python3.10/dist-packages (4.35.2)\n",
            "Requirement already satisfied: filelock in /usr/local/lib/python3.10/dist-packages (from transformers) (3.13.1)\n",
            "Requirement already satisfied: huggingface-hub<1.0,>=0.16.4 in /usr/local/lib/python3.10/dist-packages (from transformers) (0.19.4)\n",
            "Requirement already satisfied: numpy>=1.17 in /usr/local/lib/python3.10/dist-packages (from transformers) (1.23.5)\n",
            "Requirement already satisfied: packaging>=20.0 in /usr/local/lib/python3.10/dist-packages (from transformers) (23.2)\n",
            "Requirement already satisfied: pyyaml>=5.1 in /usr/local/lib/python3.10/dist-packages (from transformers) (6.0.1)\n",
            "Requirement already satisfied: regex!=2019.12.17 in /usr/local/lib/python3.10/dist-packages (from transformers) (2023.6.3)\n",
            "Requirement already satisfied: requests in /usr/local/lib/python3.10/dist-packages (from transformers) (2.31.0)\n",
            "Requirement already satisfied: tokenizers<0.19,>=0.14 in /usr/local/lib/python3.10/dist-packages (from transformers) (0.15.0)\n",
            "Requirement already satisfied: safetensors>=0.3.1 in /usr/local/lib/python3.10/dist-packages (from transformers) (0.4.1)\n",
            "Requirement already satisfied: tqdm>=4.27 in /usr/local/lib/python3.10/dist-packages (from transformers) (4.66.1)\n",
            "Requirement already satisfied: fsspec>=2023.5.0 in /usr/local/lib/python3.10/dist-packages (from huggingface-hub<1.0,>=0.16.4->transformers) (2023.6.0)\n",
            "Requirement already satisfied: typing-extensions>=3.7.4.3 in /usr/local/lib/python3.10/dist-packages (from huggingface-hub<1.0,>=0.16.4->transformers) (4.5.0)\n",
            "Requirement already satisfied: charset-normalizer<4,>=2 in /usr/local/lib/python3.10/dist-packages (from requests->transformers) (3.3.2)\n",
            "Requirement already satisfied: idna<4,>=2.5 in /usr/local/lib/python3.10/dist-packages (from requests->transformers) (3.6)\n",
            "Requirement already satisfied: urllib3<3,>=1.21.1 in /usr/local/lib/python3.10/dist-packages (from requests->transformers) (2.0.7)\n",
            "Requirement already satisfied: certifi>=2017.4.17 in /usr/local/lib/python3.10/dist-packages (from requests->transformers) (2023.11.17)\n"
          ]
        }
      ],
      "source": [
        "!pip install transformers"
      ]
    },
    {
      "cell_type": "markdown",
      "metadata": {
        "id": "b3sZyIsUPJjd"
      },
      "source": [
        "# Imports"
      ]
    },
    {
      "cell_type": "code",
      "execution_count": 2,
      "metadata": {
        "id": "iV_4VHYlGPgG"
      },
      "outputs": [],
      "source": [
        "import pandas as pd\n",
        "import torch\n",
        "from torch import nn\n",
        "from torch.utils.data import DataLoader, Dataset\n",
        "from transformers import BertTokenizer, BertModel, AdamW, get_linear_schedule_with_warmup\n",
        "from tqdm import tqdm\n",
        "from matplotlib import pyplot as plt"
      ]
    },
    {
      "cell_type": "markdown",
      "metadata": {
        "id": "Z_VGLf0WPJje"
      },
      "source": [
        "# Loading prepared train and test data"
      ]
    },
    {
      "cell_type": "code",
      "execution_count": 3,
      "metadata": {
        "colab": {
          "base_uri": "https://localhost:8080/",
          "height": 559
        },
        "id": "65walMT8PJje",
        "outputId": "856ca740-e9fa-4e76-ebc2-862845b1cba8"
      },
      "outputs": [
        {
          "output_type": "stream",
          "name": "stdout",
          "text": [
            "(1819, 1582)\n"
          ]
        },
        {
          "output_type": "execute_result",
          "data": {
            "text/plain": [
              "       id                                           overview  budget_unknown  \\\n",
              "0   86835  Rick is a screenwriter living in Los Angeles. ...               1   \n",
              "1  147441  The defiant leader Moses rises up against the ...               0   \n",
              "2  173327  From Bedrooms to Billions is a 2014 documentar...               1   \n",
              "3  173165  Starting as a passion project, this movie laun...               0   \n",
              "4  155084  A bright but meek salesman, drowning in debt a...               0   \n",
              "\n",
              "   budget_100M  revenue_Argentina_M  revenue_Australia_M  revenue_Austria_M  \\\n",
              "0      0.00000             0.474532             0.615837           0.445917   \n",
              "1      1.40000                  NaN                  NaN                NaN   \n",
              "2      0.00000                  NaN                  NaN                NaN   \n",
              "3      0.00175                  NaN                  NaN                NaN   \n",
              "4      0.05000                  NaN                  NaN                NaN   \n",
              "\n",
              "   revenue_Belgium_M  revenue_Domestic_M  revenue_France_M  ...  crew_1417400  \\\n",
              "0            0.30037                 NaN          2.166664  ...             0   \n",
              "1                NaN                 NaN               NaN  ...             0   \n",
              "2                NaN                 NaN          0.277779  ...             0   \n",
              "3                NaN                 NaN               NaN  ...             0   \n",
              "4                NaN                 NaN               NaN  ...             0   \n",
              "\n",
              "   crew_1421720  crew_1425513  crew_1440737  crew_1455461  crew_1463785  \\\n",
              "0             0             0             1             0             0   \n",
              "1             0             0             0             0             0   \n",
              "2             0             0             0             0             0   \n",
              "3             0             0             0             0             0   \n",
              "4             0             0             0             0             0   \n",
              "\n",
              "   crew_1548698  crew_1552521  crew_1552549  crew_1733142  \n",
              "0             0             0             0             0  \n",
              "1             0             0             0             0  \n",
              "2             0             0             0             0  \n",
              "3             0             0             0             0  \n",
              "4             0             0             0             0  \n",
              "\n",
              "[5 rows x 1582 columns]"
            ],
            "text/html": [
              "\n",
              "  <div id=\"df-d3f74f67-d66e-433b-bebd-6813b4a7b6ee\" class=\"colab-df-container\">\n",
              "    <div>\n",
              "<style scoped>\n",
              "    .dataframe tbody tr th:only-of-type {\n",
              "        vertical-align: middle;\n",
              "    }\n",
              "\n",
              "    .dataframe tbody tr th {\n",
              "        vertical-align: top;\n",
              "    }\n",
              "\n",
              "    .dataframe thead th {\n",
              "        text-align: right;\n",
              "    }\n",
              "</style>\n",
              "<table border=\"1\" class=\"dataframe\">\n",
              "  <thead>\n",
              "    <tr style=\"text-align: right;\">\n",
              "      <th></th>\n",
              "      <th>id</th>\n",
              "      <th>overview</th>\n",
              "      <th>budget_unknown</th>\n",
              "      <th>budget_100M</th>\n",
              "      <th>revenue_Argentina_M</th>\n",
              "      <th>revenue_Australia_M</th>\n",
              "      <th>revenue_Austria_M</th>\n",
              "      <th>revenue_Belgium_M</th>\n",
              "      <th>revenue_Domestic_M</th>\n",
              "      <th>revenue_France_M</th>\n",
              "      <th>...</th>\n",
              "      <th>crew_1417400</th>\n",
              "      <th>crew_1421720</th>\n",
              "      <th>crew_1425513</th>\n",
              "      <th>crew_1440737</th>\n",
              "      <th>crew_1455461</th>\n",
              "      <th>crew_1463785</th>\n",
              "      <th>crew_1548698</th>\n",
              "      <th>crew_1552521</th>\n",
              "      <th>crew_1552549</th>\n",
              "      <th>crew_1733142</th>\n",
              "    </tr>\n",
              "  </thead>\n",
              "  <tbody>\n",
              "    <tr>\n",
              "      <th>0</th>\n",
              "      <td>86835</td>\n",
              "      <td>Rick is a screenwriter living in Los Angeles. ...</td>\n",
              "      <td>1</td>\n",
              "      <td>0.00000</td>\n",
              "      <td>0.474532</td>\n",
              "      <td>0.615837</td>\n",
              "      <td>0.445917</td>\n",
              "      <td>0.30037</td>\n",
              "      <td>NaN</td>\n",
              "      <td>2.166664</td>\n",
              "      <td>...</td>\n",
              "      <td>0</td>\n",
              "      <td>0</td>\n",
              "      <td>0</td>\n",
              "      <td>1</td>\n",
              "      <td>0</td>\n",
              "      <td>0</td>\n",
              "      <td>0</td>\n",
              "      <td>0</td>\n",
              "      <td>0</td>\n",
              "      <td>0</td>\n",
              "    </tr>\n",
              "    <tr>\n",
              "      <th>1</th>\n",
              "      <td>147441</td>\n",
              "      <td>The defiant leader Moses rises up against the ...</td>\n",
              "      <td>0</td>\n",
              "      <td>1.40000</td>\n",
              "      <td>NaN</td>\n",
              "      <td>NaN</td>\n",
              "      <td>NaN</td>\n",
              "      <td>NaN</td>\n",
              "      <td>NaN</td>\n",
              "      <td>NaN</td>\n",
              "      <td>...</td>\n",
              "      <td>0</td>\n",
              "      <td>0</td>\n",
              "      <td>0</td>\n",
              "      <td>0</td>\n",
              "      <td>0</td>\n",
              "      <td>0</td>\n",
              "      <td>0</td>\n",
              "      <td>0</td>\n",
              "      <td>0</td>\n",
              "      <td>0</td>\n",
              "    </tr>\n",
              "    <tr>\n",
              "      <th>2</th>\n",
              "      <td>173327</td>\n",
              "      <td>From Bedrooms to Billions is a 2014 documentar...</td>\n",
              "      <td>1</td>\n",
              "      <td>0.00000</td>\n",
              "      <td>NaN</td>\n",
              "      <td>NaN</td>\n",
              "      <td>NaN</td>\n",
              "      <td>NaN</td>\n",
              "      <td>NaN</td>\n",
              "      <td>0.277779</td>\n",
              "      <td>...</td>\n",
              "      <td>0</td>\n",
              "      <td>0</td>\n",
              "      <td>0</td>\n",
              "      <td>0</td>\n",
              "      <td>0</td>\n",
              "      <td>0</td>\n",
              "      <td>0</td>\n",
              "      <td>0</td>\n",
              "      <td>0</td>\n",
              "      <td>0</td>\n",
              "    </tr>\n",
              "    <tr>\n",
              "      <th>3</th>\n",
              "      <td>173165</td>\n",
              "      <td>Starting as a passion project, this movie laun...</td>\n",
              "      <td>0</td>\n",
              "      <td>0.00175</td>\n",
              "      <td>NaN</td>\n",
              "      <td>NaN</td>\n",
              "      <td>NaN</td>\n",
              "      <td>NaN</td>\n",
              "      <td>NaN</td>\n",
              "      <td>NaN</td>\n",
              "      <td>...</td>\n",
              "      <td>0</td>\n",
              "      <td>0</td>\n",
              "      <td>0</td>\n",
              "      <td>0</td>\n",
              "      <td>0</td>\n",
              "      <td>0</td>\n",
              "      <td>0</td>\n",
              "      <td>0</td>\n",
              "      <td>0</td>\n",
              "      <td>0</td>\n",
              "    </tr>\n",
              "    <tr>\n",
              "      <th>4</th>\n",
              "      <td>155084</td>\n",
              "      <td>A bright but meek salesman, drowning in debt a...</td>\n",
              "      <td>0</td>\n",
              "      <td>0.05000</td>\n",
              "      <td>NaN</td>\n",
              "      <td>NaN</td>\n",
              "      <td>NaN</td>\n",
              "      <td>NaN</td>\n",
              "      <td>NaN</td>\n",
              "      <td>NaN</td>\n",
              "      <td>...</td>\n",
              "      <td>0</td>\n",
              "      <td>0</td>\n",
              "      <td>0</td>\n",
              "      <td>0</td>\n",
              "      <td>0</td>\n",
              "      <td>0</td>\n",
              "      <td>0</td>\n",
              "      <td>0</td>\n",
              "      <td>0</td>\n",
              "      <td>0</td>\n",
              "    </tr>\n",
              "  </tbody>\n",
              "</table>\n",
              "<p>5 rows × 1582 columns</p>\n",
              "</div>\n",
              "    <div class=\"colab-df-buttons\">\n",
              "\n",
              "  <div class=\"colab-df-container\">\n",
              "    <button class=\"colab-df-convert\" onclick=\"convertToInteractive('df-d3f74f67-d66e-433b-bebd-6813b4a7b6ee')\"\n",
              "            title=\"Convert this dataframe to an interactive table.\"\n",
              "            style=\"display:none;\">\n",
              "\n",
              "  <svg xmlns=\"http://www.w3.org/2000/svg\" height=\"24px\" viewBox=\"0 -960 960 960\">\n",
              "    <path d=\"M120-120v-720h720v720H120Zm60-500h600v-160H180v160Zm220 220h160v-160H400v160Zm0 220h160v-160H400v160ZM180-400h160v-160H180v160Zm440 0h160v-160H620v160ZM180-180h160v-160H180v160Zm440 0h160v-160H620v160Z\"/>\n",
              "  </svg>\n",
              "    </button>\n",
              "\n",
              "  <style>\n",
              "    .colab-df-container {\n",
              "      display:flex;\n",
              "      gap: 12px;\n",
              "    }\n",
              "\n",
              "    .colab-df-convert {\n",
              "      background-color: #E8F0FE;\n",
              "      border: none;\n",
              "      border-radius: 50%;\n",
              "      cursor: pointer;\n",
              "      display: none;\n",
              "      fill: #1967D2;\n",
              "      height: 32px;\n",
              "      padding: 0 0 0 0;\n",
              "      width: 32px;\n",
              "    }\n",
              "\n",
              "    .colab-df-convert:hover {\n",
              "      background-color: #E2EBFA;\n",
              "      box-shadow: 0px 1px 2px rgba(60, 64, 67, 0.3), 0px 1px 3px 1px rgba(60, 64, 67, 0.15);\n",
              "      fill: #174EA6;\n",
              "    }\n",
              "\n",
              "    .colab-df-buttons div {\n",
              "      margin-bottom: 4px;\n",
              "    }\n",
              "\n",
              "    [theme=dark] .colab-df-convert {\n",
              "      background-color: #3B4455;\n",
              "      fill: #D2E3FC;\n",
              "    }\n",
              "\n",
              "    [theme=dark] .colab-df-convert:hover {\n",
              "      background-color: #434B5C;\n",
              "      box-shadow: 0px 1px 3px 1px rgba(0, 0, 0, 0.15);\n",
              "      filter: drop-shadow(0px 1px 2px rgba(0, 0, 0, 0.3));\n",
              "      fill: #FFFFFF;\n",
              "    }\n",
              "  </style>\n",
              "\n",
              "    <script>\n",
              "      const buttonEl =\n",
              "        document.querySelector('#df-d3f74f67-d66e-433b-bebd-6813b4a7b6ee button.colab-df-convert');\n",
              "      buttonEl.style.display =\n",
              "        google.colab.kernel.accessAllowed ? 'block' : 'none';\n",
              "\n",
              "      async function convertToInteractive(key) {\n",
              "        const element = document.querySelector('#df-d3f74f67-d66e-433b-bebd-6813b4a7b6ee');\n",
              "        const dataTable =\n",
              "          await google.colab.kernel.invokeFunction('convertToInteractive',\n",
              "                                                    [key], {});\n",
              "        if (!dataTable) return;\n",
              "\n",
              "        const docLinkHtml = 'Like what you see? Visit the ' +\n",
              "          '<a target=\"_blank\" href=https://colab.research.google.com/notebooks/data_table.ipynb>data table notebook</a>'\n",
              "          + ' to learn more about interactive tables.';\n",
              "        element.innerHTML = '';\n",
              "        dataTable['output_type'] = 'display_data';\n",
              "        await google.colab.output.renderOutput(dataTable, element);\n",
              "        const docLink = document.createElement('div');\n",
              "        docLink.innerHTML = docLinkHtml;\n",
              "        element.appendChild(docLink);\n",
              "      }\n",
              "    </script>\n",
              "  </div>\n",
              "\n",
              "\n",
              "<div id=\"df-056b2630-5997-4bfd-9230-aee5162f1a66\">\n",
              "  <button class=\"colab-df-quickchart\" onclick=\"quickchart('df-056b2630-5997-4bfd-9230-aee5162f1a66')\"\n",
              "            title=\"Suggest charts\"\n",
              "            style=\"display:none;\">\n",
              "\n",
              "<svg xmlns=\"http://www.w3.org/2000/svg\" height=\"24px\"viewBox=\"0 0 24 24\"\n",
              "     width=\"24px\">\n",
              "    <g>\n",
              "        <path d=\"M19 3H5c-1.1 0-2 .9-2 2v14c0 1.1.9 2 2 2h14c1.1 0 2-.9 2-2V5c0-1.1-.9-2-2-2zM9 17H7v-7h2v7zm4 0h-2V7h2v10zm4 0h-2v-4h2v4z\"/>\n",
              "    </g>\n",
              "</svg>\n",
              "  </button>\n",
              "\n",
              "<style>\n",
              "  .colab-df-quickchart {\n",
              "      --bg-color: #E8F0FE;\n",
              "      --fill-color: #1967D2;\n",
              "      --hover-bg-color: #E2EBFA;\n",
              "      --hover-fill-color: #174EA6;\n",
              "      --disabled-fill-color: #AAA;\n",
              "      --disabled-bg-color: #DDD;\n",
              "  }\n",
              "\n",
              "  [theme=dark] .colab-df-quickchart {\n",
              "      --bg-color: #3B4455;\n",
              "      --fill-color: #D2E3FC;\n",
              "      --hover-bg-color: #434B5C;\n",
              "      --hover-fill-color: #FFFFFF;\n",
              "      --disabled-bg-color: #3B4455;\n",
              "      --disabled-fill-color: #666;\n",
              "  }\n",
              "\n",
              "  .colab-df-quickchart {\n",
              "    background-color: var(--bg-color);\n",
              "    border: none;\n",
              "    border-radius: 50%;\n",
              "    cursor: pointer;\n",
              "    display: none;\n",
              "    fill: var(--fill-color);\n",
              "    height: 32px;\n",
              "    padding: 0;\n",
              "    width: 32px;\n",
              "  }\n",
              "\n",
              "  .colab-df-quickchart:hover {\n",
              "    background-color: var(--hover-bg-color);\n",
              "    box-shadow: 0 1px 2px rgba(60, 64, 67, 0.3), 0 1px 3px 1px rgba(60, 64, 67, 0.15);\n",
              "    fill: var(--button-hover-fill-color);\n",
              "  }\n",
              "\n",
              "  .colab-df-quickchart-complete:disabled,\n",
              "  .colab-df-quickchart-complete:disabled:hover {\n",
              "    background-color: var(--disabled-bg-color);\n",
              "    fill: var(--disabled-fill-color);\n",
              "    box-shadow: none;\n",
              "  }\n",
              "\n",
              "  .colab-df-spinner {\n",
              "    border: 2px solid var(--fill-color);\n",
              "    border-color: transparent;\n",
              "    border-bottom-color: var(--fill-color);\n",
              "    animation:\n",
              "      spin 1s steps(1) infinite;\n",
              "  }\n",
              "\n",
              "  @keyframes spin {\n",
              "    0% {\n",
              "      border-color: transparent;\n",
              "      border-bottom-color: var(--fill-color);\n",
              "      border-left-color: var(--fill-color);\n",
              "    }\n",
              "    20% {\n",
              "      border-color: transparent;\n",
              "      border-left-color: var(--fill-color);\n",
              "      border-top-color: var(--fill-color);\n",
              "    }\n",
              "    30% {\n",
              "      border-color: transparent;\n",
              "      border-left-color: var(--fill-color);\n",
              "      border-top-color: var(--fill-color);\n",
              "      border-right-color: var(--fill-color);\n",
              "    }\n",
              "    40% {\n",
              "      border-color: transparent;\n",
              "      border-right-color: var(--fill-color);\n",
              "      border-top-color: var(--fill-color);\n",
              "    }\n",
              "    60% {\n",
              "      border-color: transparent;\n",
              "      border-right-color: var(--fill-color);\n",
              "    }\n",
              "    80% {\n",
              "      border-color: transparent;\n",
              "      border-right-color: var(--fill-color);\n",
              "      border-bottom-color: var(--fill-color);\n",
              "    }\n",
              "    90% {\n",
              "      border-color: transparent;\n",
              "      border-bottom-color: var(--fill-color);\n",
              "    }\n",
              "  }\n",
              "</style>\n",
              "\n",
              "  <script>\n",
              "    async function quickchart(key) {\n",
              "      const quickchartButtonEl =\n",
              "        document.querySelector('#' + key + ' button');\n",
              "      quickchartButtonEl.disabled = true;  // To prevent multiple clicks.\n",
              "      quickchartButtonEl.classList.add('colab-df-spinner');\n",
              "      try {\n",
              "        const charts = await google.colab.kernel.invokeFunction(\n",
              "            'suggestCharts', [key], {});\n",
              "      } catch (error) {\n",
              "        console.error('Error during call to suggestCharts:', error);\n",
              "      }\n",
              "      quickchartButtonEl.classList.remove('colab-df-spinner');\n",
              "      quickchartButtonEl.classList.add('colab-df-quickchart-complete');\n",
              "    }\n",
              "    (() => {\n",
              "      let quickchartButtonEl =\n",
              "        document.querySelector('#df-056b2630-5997-4bfd-9230-aee5162f1a66 button');\n",
              "      quickchartButtonEl.style.display =\n",
              "        google.colab.kernel.accessAllowed ? 'block' : 'none';\n",
              "    })();\n",
              "  </script>\n",
              "</div>\n",
              "    </div>\n",
              "  </div>\n"
            ]
          },
          "metadata": {},
          "execution_count": 3
        }
      ],
      "source": [
        "data = pd.read_csv('country_wise_train_test.csv')\n",
        "print(data.shape)\n",
        "data.head()"
      ]
    },
    {
      "cell_type": "code",
      "execution_count": 4,
      "metadata": {
        "id": "2GGtXtEZ62GZ"
      },
      "outputs": [],
      "source": [
        "COUNTRY = 'Netherlands'\n",
        "REVENUE_COL = 'revenue_' + COUNTRY + '_M'"
      ]
    },
    {
      "cell_type": "code",
      "execution_count": 5,
      "metadata": {
        "colab": {
          "base_uri": "https://localhost:8080/"
        },
        "id": "CwVci6mB62GZ",
        "outputId": "b9337aba-4830-4eb8-8ad5-f7e1f55506fe"
      },
      "outputs": [
        {
          "output_type": "stream",
          "name": "stdout",
          "text": [
            "(516, 1582)\n"
          ]
        }
      ],
      "source": [
        "data.dropna(subset=[REVENUE_COL], inplace=True)\n",
        "data = data[data[REVENUE_COL] > 0]\n",
        "print(data.shape)"
      ]
    },
    {
      "cell_type": "code",
      "execution_count": 6,
      "metadata": {
        "id": "9HC560PN62GZ"
      },
      "outputs": [],
      "source": [
        "data['overview'].fillna('', inplace=True)"
      ]
    },
    {
      "cell_type": "code",
      "execution_count": 7,
      "metadata": {
        "colab": {
          "base_uri": "https://localhost:8080/"
        },
        "id": "DqCVGE4s62GZ",
        "outputId": "571ff2a5-16f2-4742-a208-c9f45edc6909"
      },
      "outputs": [
        {
          "output_type": "stream",
          "name": "stdout",
          "text": [
            "(516, 1017)\n"
          ]
        }
      ],
      "source": [
        "# Drop all columns where all values are 0 (cast, crew, etc missing so we can save model training time)\n",
        "data = data.loc[:, (data != 0).any(axis=0)]\n",
        "print(data.shape)"
      ]
    },
    {
      "cell_type": "code",
      "execution_count": 8,
      "metadata": {
        "colab": {
          "base_uri": "https://localhost:8080/"
        },
        "id": "NoHP8sUn62Ga",
        "outputId": "a589d788-6db2-42d7-ad8e-b1f8142f07eb"
      },
      "outputs": [
        {
          "output_type": "stream",
          "name": "stdout",
          "text": [
            "count    516.000000\n",
            "mean       1.406698\n",
            "std        2.934445\n",
            "min        0.000051\n",
            "25%        0.100289\n",
            "50%        0.458568\n",
            "75%        1.359543\n",
            "max       31.602957\n",
            "Name: revenue_Netherlands_M, dtype: float64\n"
          ]
        }
      ],
      "source": [
        "# Find range of revenue\n",
        "print(data[REVENUE_COL].describe())"
      ]
    },
    {
      "cell_type": "code",
      "execution_count": 9,
      "metadata": {
        "id": "bzqxlY0p62Ga"
      },
      "outputs": [],
      "source": [
        "# Just a heuristic for scaling the revenue so that mean comes out as 0.5\n",
        "REVENUE_SCALE = 2 * data[REVENUE_COL].mean()\n",
        "data[REVENUE_COL] = data[REVENUE_COL] / REVENUE_SCALE"
      ]
    },
    {
      "cell_type": "code",
      "execution_count": 10,
      "metadata": {
        "id": "TYxDfFI6HKNw"
      },
      "outputs": [],
      "source": [
        "# 2. Dataset and Dataloader\n",
        "class RevenueDataset(Dataset):\n",
        "    def __init__(self, tokenizer, data, device, max_length=256):\n",
        "        self.tokenizer = tokenizer\n",
        "        self.max_length = max_length\n",
        "        self.data = data\n",
        "        self.original_language_cols = [x for x in data.columns if x.startswith('original_language_')]\n",
        "        self.genre_cols = [x for x in data.columns if x.startswith('genre_')]\n",
        "        self.cast_cols = [x for x in data.columns if x.startswith('cast_')]\n",
        "        self.crew_cols = [x for x in data.columns if x.startswith('crew_')]\n",
        "        self.device = device\n",
        "\n",
        "    def __getitem__(self, idx):\n",
        "        row = self.data.iloc[idx]\n",
        "        inputs = self.tokenizer.encode_plus(row['overview'], add_special_tokens=True, max_length=self.max_length, padding='max_length', truncation=True, return_tensors='pt').to(self.device)\n",
        "\n",
        "        original_language = torch.tensor(row[self.original_language_cols].values.astype(float), dtype=torch.float, device=self.device)\n",
        "        genres = torch.tensor(row[self.genre_cols].values.astype(float), dtype=torch.float, device=self.device)\n",
        "        cast = torch.tensor(row[self.cast_cols].values.astype(float), dtype=torch.float, device=self.device)\n",
        "        crew = torch.tensor(row[self.crew_cols].values.astype(float), dtype=torch.float, device=self.device)\n",
        "        budget = torch.tensor(row['budget_100M'], dtype=torch.float, device=self.device)\n",
        "        budget_unknown = torch.tensor(row['budget_unknown'], dtype=torch.float, device=self.device)\n",
        "        revenue = torch.tensor(row[REVENUE_COL], dtype=torch.float, device=self.device)\n",
        "\n",
        "        x = torch.cat((\n",
        "            inputs[\"input_ids\"].squeeze(),\n",
        "            inputs[\"attention_mask\"].squeeze(),\n",
        "            original_language,\n",
        "            genres,\n",
        "            cast,\n",
        "            crew,\n",
        "            budget.unsqueeze(0),\n",
        "            budget_unknown.unsqueeze(0)\n",
        "        ))\n",
        "\n",
        "        return x, revenue\n",
        "\n",
        "    def __len__(self):\n",
        "      return len(self.data)"
      ]
    },
    {
      "cell_type": "code",
      "execution_count": 11,
      "metadata": {
        "id": "92Gl23DDPJjr"
      },
      "outputs": [],
      "source": [
        "DEVICE = torch.device(\"cuda\" if torch.cuda.is_available() else \"cpu\")"
      ]
    },
    {
      "cell_type": "code",
      "execution_count": 12,
      "metadata": {
        "id": "EGRjWkYWPJjr"
      },
      "outputs": [],
      "source": [
        "BATCH_SIZE = 16"
      ]
    },
    {
      "cell_type": "code",
      "execution_count": 13,
      "metadata": {
        "id": "LuYEQv4qPJjr"
      },
      "outputs": [],
      "source": [
        "tokenizer = BertTokenizer.from_pretrained(\"bert-base-uncased\")"
      ]
    },
    {
      "cell_type": "code",
      "execution_count": 14,
      "metadata": {
        "id": "SNwmOgfTH9g1"
      },
      "outputs": [],
      "source": [
        "DATASET = RevenueDataset(tokenizer, data, DEVICE)\n",
        "train_dataset, test_dataset = torch.utils.data.random_split(DATASET, [int(len(DATASET)*0.8), len(DATASET) - int(len(DATASET)*0.8)], generator=torch.Generator().manual_seed(42))\n",
        "train_dataloader = DataLoader(train_dataset, batch_size=BATCH_SIZE, shuffle=True)\n",
        "test_dataloader = DataLoader(test_dataset, batch_size=BATCH_SIZE, shuffle=True)"
      ]
    },
    {
      "cell_type": "code",
      "execution_count": 15,
      "metadata": {
        "colab": {
          "base_uri": "https://localhost:8080/"
        },
        "id": "TsGtrV-wkOXJ",
        "outputId": "2dddb298-dca9-44fa-d3cf-66f3c68d860b"
      },
      "outputs": [
        {
          "output_type": "stream",
          "name": "stdout",
          "text": [
            "20 625 326 25\n"
          ]
        }
      ],
      "source": [
        "NUM_GENRES = len(DATASET.genre_cols)\n",
        "NUM_CAST = len(DATASET.cast_cols)\n",
        "NUM_CREW = len(DATASET.crew_cols)\n",
        "NUM_ORIGINAL_LANGUAGES = len(DATASET.original_language_cols)\n",
        "print(NUM_GENRES, NUM_CAST, NUM_CREW, NUM_ORIGINAL_LANGUAGES)"
      ]
    },
    {
      "cell_type": "code",
      "execution_count": 16,
      "metadata": {
        "colab": {
          "base_uri": "https://localhost:8080/"
        },
        "id": "uleQqs8xgcNf",
        "outputId": "ba098d48-10a9-4048-aae5-1e871f45429e"
      },
      "outputs": [
        {
          "output_type": "stream",
          "name": "stdout",
          "text": [
            "['genre_Action', 'genre_Adventure', 'genre_Animation', 'genre_Comedy', 'genre_Crime', 'genre_Documentary', 'genre_Drama', 'genre_Family', 'genre_Fantasy', 'genre_Foreign', 'genre_History', 'genre_Horror', 'genre_Music', 'genre_Mystery', 'genre_Romance', 'genre_Science Fiction', 'genre_TV Movie', 'genre_Thriller', 'genre_War', 'genre_Western']\n",
            "['cast_3', 'cast_31', 'cast_50', 'cast_53', 'cast_64', 'cast_85', 'cast_99', 'cast_112', 'cast_113', 'cast_134', 'cast_139', 'cast_147', 'cast_192', 'cast_193', 'cast_207', 'cast_227', 'cast_287', 'cast_326', 'cast_335', 'cast_380', 'cast_385', 'cast_400', 'cast_477', 'cast_501', 'cast_518', 'cast_522', 'cast_524', 'cast_526', 'cast_532', 'cast_539', 'cast_588', 'cast_591', 'cast_649', 'cast_658', 'cast_689', 'cast_694', 'cast_738', 'cast_741', 'cast_742', 'cast_776', 'cast_785', 'cast_821', 'cast_824', 'cast_854', 'cast_857', 'cast_884', 'cast_936', 'cast_937', 'cast_973', 'cast_974', 'cast_1032', 'cast_1037', 'cast_1062', 'cast_1064', 'cast_1065', 'cast_1084', 'cast_1100', 'cast_1118', 'cast_1137', 'cast_1146', 'cast_1158', 'cast_1159', 'cast_1160', 'cast_1161', 'cast_1162', 'cast_1164', 'cast_1166', 'cast_1173', 'cast_1204', 'cast_1205', 'cast_1211', 'cast_1229', 'cast_1230', 'cast_1231', 'cast_1233', 'cast_1240', 'cast_1241', 'cast_1246', 'cast_1248', 'cast_1271', 'cast_1276', 'cast_1283', 'cast_1295', 'cast_1327', 'cast_1350', 'cast_1352', 'cast_1370', 'cast_1466', 'cast_1479', 'cast_1481', 'cast_1539', 'cast_1640', 'cast_1646', 'cast_1666', 'cast_1709', 'cast_1733', 'cast_1748', 'cast_1844', 'cast_1892', 'cast_1896', 'cast_1937', 'cast_1954', 'cast_1956', 'cast_1979', 'cast_1989', 'cast_2037', 'cast_2039', 'cast_2047', 'cast_2048', 'cast_2076', 'cast_2098', 'cast_2176', 'cast_2178', 'cast_2192', 'cast_2201', 'cast_2203', 'cast_2219', 'cast_2228', 'cast_2231', 'cast_2232', 'cast_2249', 'cast_2282', 'cast_2283', 'cast_2296', 'cast_2341', 'cast_2369', 'cast_2372', 'cast_2390', 'cast_2438', 'cast_2440', 'cast_2441', 'cast_2461', 'cast_2505', 'cast_2561', 'cast_2617', 'cast_2628', 'cast_2629', 'cast_2636', 'cast_2639', 'cast_2645', 'cast_2778', 'cast_2876', 'cast_2888', 'cast_2969', 'cast_3026', 'cast_3037', 'cast_3052', 'cast_3061', 'cast_3063', 'cast_3084', 'cast_3087', 'cast_3129', 'cast_3136', 'cast_3151', 'cast_3174', 'cast_3197', 'cast_3201', 'cast_3202', 'cast_3247', 'cast_3265', 'cast_3338', 'cast_3359', 'cast_3383', 'cast_3392', 'cast_3416', 'cast_3418', 'cast_3491', 'cast_3548', 'cast_3610', 'cast_3784', 'cast_3796', 'cast_3798', 'cast_3895', 'cast_3896', 'cast_3905', 'cast_3967', 'cast_4030', 'cast_4072', 'cast_4073', 'cast_4078', 'cast_4094', 'cast_4135', 'cast_4139', 'cast_4158', 'cast_4165', 'cast_4171', 'cast_4173', 'cast_4251', 'cast_4303', 'cast_4347', 'cast_4391', 'cast_4430', 'cast_4431', 'cast_4432', 'cast_4445', 'cast_4483', 'cast_4492', 'cast_4496', 'cast_4512', 'cast_4514', 'cast_4566', 'cast_4604', 'cast_4654', 'cast_4688', 'cast_4690', 'cast_4724', 'cast_4726', 'cast_4764', 'cast_4812', 'cast_4971', 'cast_4973', 'cast_5049', 'cast_5050', 'cast_5139', 'cast_5151', 'cast_5249', 'cast_5292', 'cast_5341', 'cast_5419', 'cast_5576', 'cast_5658', 'cast_5723', 'cast_5724', 'cast_5726', 'cast_5889', 'cast_5950', 'cast_6008', 'cast_6074', 'cast_6091', 'cast_6104', 'cast_6197', 'cast_6198', 'cast_6239', 'cast_6304', 'cast_6355', 'cast_6384', 'cast_6396', 'cast_6450', 'cast_6497', 'cast_6498', 'cast_6573', 'cast_6587', 'cast_6610', 'cast_6684', 'cast_6751', 'cast_6804', 'cast_6807', 'cast_6818', 'cast_6836', 'cast_6861', 'cast_6906', 'cast_6916', 'cast_6930', 'cast_7026', 'cast_7056', 'cast_7132', 'cast_7166', 'cast_7248', 'cast_7331', 'cast_7431', 'cast_7447', 'cast_7465', 'cast_7486', 'cast_7487', 'cast_7502', 'cast_7505', 'cast_7863', 'cast_7868', 'cast_7906', 'cast_7907', 'cast_8167', 'cast_8212', 'cast_8226', 'cast_8253', 'cast_8260', 'cast_8262', 'cast_8263', 'cast_8293', 'cast_8349', 'cast_8436', 'cast_8447', 'cast_8515', 'cast_8516', 'cast_8534', 'cast_8535', 'cast_8536', 'cast_8540', 'cast_8547', 'cast_8654', 'cast_8688', 'cast_8727', 'cast_8784', 'cast_8828', 'cast_8829', 'cast_8841', 'cast_8874', 'cast_8930', 'cast_8984', 'cast_9096', 'cast_9126', 'cast_9134', 'cast_9192', 'cast_9195', 'cast_9221', 'cast_9290', 'cast_9596', 'cast_9599', 'cast_9626', 'cast_9642', 'cast_9657', 'cast_9777', 'cast_9874', 'cast_9880', 'cast_9906', 'cast_10017', 'cast_10127', 'cast_10158', 'cast_10169', 'cast_10182', 'cast_10205', 'cast_10254', 'cast_10692', 'cast_10698', 'cast_10731', 'cast_10743', 'cast_10823', 'cast_10825', 'cast_10859', 'cast_10862', 'cast_10916', 'cast_10959', 'cast_10983', 'cast_11023', 'cast_11150', 'cast_11155', 'cast_11160', 'cast_11161', 'cast_11163', 'cast_11180', 'cast_11184', 'cast_11187', 'cast_11275', 'cast_11357', 'cast_11614', 'cast_11664', 'cast_11678', 'cast_11718', 'cast_11794', 'cast_11803', 'cast_11850', 'cast_11851', 'cast_11857', 'cast_11863', 'cast_11870', 'cast_12074', 'cast_12111', 'cast_12248', 'cast_12270', 'cast_12359', 'cast_12446', 'cast_12645', 'cast_12826', 'cast_12900', 'cast_13022', 'cast_13240', 'cast_13242', 'cast_13327', 'cast_13333', 'cast_13359', 'cast_13472', 'cast_13566', 'cast_13919', 'cast_13920', 'cast_13969', 'cast_14027', 'cast_14101', 'cast_14108', 'cast_14261', 'cast_14264', 'cast_14277', 'cast_14324', 'cast_14344', 'cast_14500', 'cast_14501', 'cast_14503', 'cast_14721', 'cast_14888', 'cast_14975', 'cast_14979', 'cast_14991', 'cast_15070', 'cast_15152', 'cast_15196', 'cast_15374', 'cast_15500', 'cast_15531', 'cast_15532', 'cast_15735', 'cast_15761', 'cast_15831', 'cast_15887', 'cast_15900', 'cast_15992', 'cast_16170', 'cast_16180', 'cast_16273', 'cast_16349', 'cast_16475', 'cast_16478', 'cast_16483', 'cast_16644', 'cast_16866', 'cast_16925', 'cast_16927', 'cast_16940', 'cast_17276', 'cast_17373', 'cast_17490', 'cast_17752', 'cast_17753', 'cast_17756', 'cast_17882', 'cast_18082', 'cast_18262', 'cast_18324', 'cast_18514', 'cast_18613', 'cast_18847', 'cast_18916', 'cast_18917', 'cast_18918', 'cast_18976', 'cast_18999', 'cast_19020', 'cast_19111', 'cast_19152', 'cast_19274', 'cast_19303', 'cast_19329', 'cast_19453', 'cast_19923', 'cast_20128', 'cast_20212', 'cast_20220', 'cast_20239', 'cast_20241', 'cast_20243', 'cast_20562', 'cast_20747', 'cast_20750', 'cast_20766', 'cast_20904', 'cast_20982', 'cast_21007', 'cast_21030', 'cast_21171', 'cast_21181', 'cast_21197', 'cast_21290', 'cast_21315', 'cast_21520', 'cast_21605', 'cast_21609', 'cast_21818', 'cast_21859', 'cast_22093', 'cast_22169', 'cast_22226', 'cast_22306', 'cast_22383', 'cast_22384', 'cast_23532', 'cast_23608', 'cast_23627', 'cast_23734', 'cast_23967', 'cast_24265', 'cast_24299', 'cast_24362', 'cast_24366', 'cast_24421', 'cast_24629', 'cast_24820', 'cast_25541', 'cast_26258', 'cast_26485', 'cast_27578', 'cast_28255', 'cast_28463', 'cast_28637', 'cast_28641', 'cast_28847', 'cast_28848', 'cast_28950', 'cast_29214', 'cast_29274', 'cast_29712', 'cast_30002', 'cast_30017', 'cast_30037', 'cast_30136', 'cast_30210', 'cast_30417', 'cast_30475', 'cast_30551', 'cast_30553', 'cast_30907', 'cast_31070', 'cast_31384', 'cast_31531', 'cast_32204', 'cast_32437', 'cast_32458', 'cast_32657', 'cast_33033', 'cast_33259', 'cast_33489', 'cast_33807', 'cast_34187', 'cast_34320', 'cast_34502', 'cast_34505', 'cast_34901', 'cast_35004', 'cast_36594', 'cast_36666', 'cast_37777', 'cast_38026', 'cast_39186', 'cast_39432', 'cast_40009', 'cast_40477', 'cast_40481', 'cast_40945', 'cast_40952', 'cast_41043', 'cast_41087', 'cast_43010', 'cast_43775', 'cast_44079', 'cast_44560', 'cast_45754', 'cast_46780', 'cast_47068', 'cast_47458', 'cast_47773', 'cast_49425', 'cast_50346', 'cast_50656', 'cast_51300', 'cast_51544', 'cast_51957', 'cast_52144', 'cast_53010', 'cast_53256', 'cast_53362', 'cast_54447', 'cast_54479', 'cast_54696', 'cast_54855', 'cast_55004', 'cast_55636', 'cast_55638', 'cast_56183', 'cast_56843', 'cast_56853', 'cast_56890', 'cast_57599', 'cast_57755', 'cast_58058', 'cast_58168', 'cast_59196', 'cast_59269', 'cast_61704', 'cast_62596', 'cast_65827', 'cast_69122', 'cast_69597', 'cast_72466', 'cast_73421', 'cast_76968', 'cast_77351', 'cast_78021', 'cast_78798', 'cast_78902', 'cast_80704', 'cast_81178', 'cast_87825', 'cast_89153', 'cast_89728', 'cast_92587', 'cast_94114', 'cast_95728', 'cast_97204', 'cast_98052', 'cast_100763', 'cast_102441', 'cast_103068', 'cast_117036', 'cast_120702', 'cast_120810', 'cast_121323', 'cast_122889', 'cast_124736', 'cast_124882', 'cast_126983', 'cast_128597', 'cast_131003', 'cast_134608', 'cast_143307', 'cast_150697', 'cast_169469', 'cast_203147', 'cast_218605', 'cast_221581', 'cast_227638', 'cast_235722', 'cast_540363', 'cast_1054325', 'cast_1130451', 'cast_1208039', 'cast_1211946', 'cast_1216356', 'cast_1261701', 'cast_1584544']\n",
            "['crew_24', 'crew_37', 'crew_59', 'crew_117', 'crew_136', 'crew_138', 'crew_149', 'crew_151', 'crew_153', 'crew_154', 'crew_282', 'crew_330', 'crew_376', 'crew_432', 'crew_434', 'crew_460', 'crew_469', 'crew_488', 'crew_489', 'crew_493', 'crew_495', 'crew_510', 'crew_531', 'crew_541', 'crew_555', 'crew_557', 'crew_598', 'crew_664', 'crew_671', 'crew_770', 'crew_834', 'crew_865', 'crew_894', 'crew_947', 'crew_1032', 'crew_1045', 'crew_1047', 'crew_1060', 'crew_1075', 'crew_1076', 'crew_1093', 'crew_1098', 'crew_1113', 'crew_1150', 'crew_1213', 'crew_1223', 'crew_1224', 'crew_1259', 'crew_1262', 'crew_1263', 'crew_1296', 'crew_1301', 'crew_1307', 'crew_1484', 'crew_1527', 'crew_1593', 'crew_1705', 'crew_1729', 'crew_1760', 'crew_1776', 'crew_2033', 'crew_2215', 'crew_2236', 'crew_2238', 'crew_2243', 'crew_2287', 'crew_2303', 'crew_2359', 'crew_2446', 'crew_2507', 'crew_2636', 'crew_2704', 'crew_2710', 'crew_2889', 'crew_2949', 'crew_2950', 'crew_2952', 'crew_2953', 'crew_2997', 'crew_3027', 'crew_3056', 'crew_3146', 'crew_3192', 'crew_3249', 'crew_3288', 'crew_3351', 'crew_3435', 'crew_3806', 'crew_3965', 'crew_3987', 'crew_4023', 'crew_4027', 'crew_4081', 'crew_4082', 'crew_4123', 'crew_4135', 'crew_4140', 'crew_4185', 'crew_4248', 'crew_4350', 'crew_4352', 'crew_4387', 'crew_4410', 'crew_4415', 'crew_4429', 'crew_4504', 'crew_4645', 'crew_4710', 'crew_4762', 'crew_4767', 'crew_4955', 'crew_5026', 'crew_5125', 'crew_5132', 'crew_5144', 'crew_5188', 'crew_5328', 'crew_5488', 'crew_5493', 'crew_5581', 'crew_5582', 'crew_5602', 'crew_5632', 'crew_5634', 'crew_5763', 'crew_5912', 'crew_5914', 'crew_5957', 'crew_6046', 'crew_6052', 'crew_6210', 'crew_6346', 'crew_6377', 'crew_6410', 'crew_6489', 'crew_6491', 'crew_6492', 'crew_6593', 'crew_6818', 'crew_7182', 'crew_7262', 'crew_7337', 'crew_7535', 'crew_7623', 'crew_7647', 'crew_7687', 'crew_7688', 'crew_7689', 'crew_7714', 'crew_8274', 'crew_8285', 'crew_8288', 'crew_8428', 'crew_8500', 'crew_8502', 'crew_8503', 'crew_8506', 'crew_8508', 'crew_8527', 'crew_8528', 'crew_8578', 'crew_8619', 'crew_8622', 'crew_8680', 'crew_8685', 'crew_8705', 'crew_8794', 'crew_8858', 'crew_8885', 'crew_8969', 'crew_9027', 'crew_9062', 'crew_9064', 'crew_9251', 'crew_9269', 'crew_9349', 'crew_9545', 'crew_9648', 'crew_9752', 'crew_10494', 'crew_10632', 'crew_10952', 'crew_10958', 'crew_11098', 'crew_11435', 'crew_11505', 'crew_11593', 'crew_11614', 'crew_11713', 'crew_11874', 'crew_12509', 'crew_13017', 'crew_13050', 'crew_13245', 'crew_13585', 'crew_13596', 'crew_13802', 'crew_14268', 'crew_14377', 'crew_14457', 'crew_15219', 'crew_15244', 'crew_15389', 'crew_15427', 'crew_16363', 'crew_16483', 'crew_16551', 'crew_16767', 'crew_16847', 'crew_16938', 'crew_17016', 'crew_17603', 'crew_17700', 'crew_17880', 'crew_17886', 'crew_18989', 'crew_19069', 'crew_19155', 'crew_19266', 'crew_19707', 'crew_20297', 'crew_21351', 'crew_21792', 'crew_23486', 'crew_23545', 'crew_23787', 'crew_25210', 'crew_25729', 'crew_25826', 'crew_27014', 'crew_27875', 'crew_27969', 'crew_28241', 'crew_29501', 'crew_30309', 'crew_30700', 'crew_30715', 'crew_31211', 'crew_31775', 'crew_33685', 'crew_33807', 'crew_35180', 'crew_37298', 'crew_39104', 'crew_39138', 'crew_40345', 'crew_40384', 'crew_40471', 'crew_41039', 'crew_41080', 'crew_41082', 'crew_44955', 'crew_44957', 'crew_47562', 'crew_50567', 'crew_50577', 'crew_51702', 'crew_52452', 'crew_53346', 'crew_53859', 'crew_54777', 'crew_55227', 'crew_58363', 'crew_59839', 'crew_65677', 'crew_68602', 'crew_72427', 'crew_76978', 'crew_88809', 'crew_91069', 'crew_92470', 'crew_100036', 'crew_100423', 'crew_102429', 'crew_102844', 'crew_105343', 'crew_111353', 'crew_112656', 'crew_117206', 'crew_124137', 'crew_131388', 'crew_142152', 'crew_230436', 'crew_406204', 'crew_554887', 'crew_931473', 'crew_936765', 'crew_963843', 'crew_1002601', 'crew_1007395', 'crew_1017376', 'crew_1034748', 'crew_1077782', 'crew_1264811', 'crew_1299405', 'crew_1319160', 'crew_1319198', 'crew_1327030', 'crew_1335078', 'crew_1335122', 'crew_1338372', 'crew_1341403', 'crew_1346943', 'crew_1367493', 'crew_1371069', 'crew_1377125', 'crew_1377131', 'crew_1377132', 'crew_1377133', 'crew_1378171', 'crew_1391571', 'crew_1398972', 'crew_1400812', 'crew_1403490', 'crew_1406614', 'crew_1413091', 'crew_1417400', 'crew_1421720', 'crew_1425513', 'crew_1440737', 'crew_1455461', 'crew_1463785', 'crew_1548698', 'crew_1552521', 'crew_1552549', 'crew_1733142']\n",
            "['original_language_bs', 'original_language_cn', 'original_language_cs', 'original_language_da', 'original_language_de', 'original_language_en', 'original_language_es', 'original_language_fa', 'original_language_fi', 'original_language_fr', 'original_language_hi', 'original_language_it', 'original_language_ja', 'original_language_ko', 'original_language_nl', 'original_language_pl', 'original_language_pt', 'original_language_ru', 'original_language_sr', 'original_language_sv', 'original_language_ta', 'original_language_th', 'original_language_xx', 'original_language_zh', 'original_language_zu']\n"
          ]
        }
      ],
      "source": [
        "print(DATASET.genre_cols)\n",
        "print(DATASET.cast_cols)\n",
        "print(DATASET.crew_cols)\n",
        "print(DATASET.original_language_cols)"
      ]
    },
    {
      "cell_type": "code",
      "execution_count": 17,
      "metadata": {
        "id": "xom76OmSIAAa"
      },
      "outputs": [],
      "source": [
        "# 3. Model\n",
        "class RevenuePredictor(nn.Module):\n",
        "    def __init__(self, bert_embedding_size = 128, cast_embedding_size = 32, crew_embedding_size = 32, hidden_size = 128):\n",
        "        super(RevenuePredictor, self).__init__()\n",
        "        self.bert = BertModel.from_pretrained(\"bert-base-uncased\")\n",
        "\n",
        "        # Linear layer for textual embeddings\n",
        "        self.linear_overview = nn.Linear(self.bert.config.hidden_size, bert_embedding_size)\n",
        "\n",
        "        # # Linear layer for original language embeddings\n",
        "        # self.linear_original_language = nn.Linear(NUM_ORIGINAL_LANGUAGES, original_language_embedding_size)\n",
        "\n",
        "        # Linear layer for embedding cast\n",
        "        self.linear_cast = nn.Linear(NUM_CAST, cast_embedding_size)\n",
        "\n",
        "        # Linear layer for embedding crew\n",
        "        self.linear_crew = nn.Linear(NUM_CREW, crew_embedding_size)\n",
        "\n",
        "        # Budget and budget_unknown, and genres\n",
        "        self.other_features_size = 2 + NUM_GENRES + NUM_ORIGINAL_LANGUAGES\n",
        "\n",
        "        self.output_layer = nn.Sequential(\n",
        "            nn.Linear(bert_embedding_size + cast_embedding_size + crew_embedding_size + self.other_features_size, hidden_size),\n",
        "            nn.ReLU(inplace=True),\n",
        "            nn.Linear(hidden_size, 1)\n",
        "        )\n",
        "\n",
        "    def forward(self, input):\n",
        "        bert_out = self.bert(input_ids=input[:, :256].long(), attention_mask=input[:, 256:512].long())\n",
        "        overview_embedding = self.linear_overview(bert_out['pooler_output'])\n",
        "        overview_embedding = nn.LeakyReLU()(overview_embedding)\n",
        "\n",
        "        original_language = input[:, 512:512+NUM_ORIGINAL_LANGUAGES]\n",
        "        cast_embedding = self.linear_cast(input[:, 512+NUM_ORIGINAL_LANGUAGES:512+NUM_ORIGINAL_LANGUAGES+NUM_CAST])\n",
        "        cast_embedding = nn.LeakyReLU()(cast_embedding)\n",
        "        crew_embedding = self.linear_crew(input[:, 512+NUM_ORIGINAL_LANGUAGES+NUM_CAST:512+NUM_ORIGINAL_LANGUAGES+NUM_CAST+NUM_CREW])\n",
        "        cast_embedding = nn.LeakyReLU()(cast_embedding)\n",
        "        other_features = input[:, 512+NUM_ORIGINAL_LANGUAGES+NUM_CAST+NUM_CREW:]\n",
        "\n",
        "\n",
        "        return self.output_layer(torch.cat((\n",
        "            overview_embedding,\n",
        "            original_language,\n",
        "            cast_embedding,\n",
        "            crew_embedding,\n",
        "            other_features\n",
        "        ), dim=1))"
      ]
    },
    {
      "cell_type": "code",
      "execution_count": 18,
      "metadata": {
        "id": "p7AKHX-9PJjr"
      },
      "outputs": [],
      "source": [
        "model = RevenuePredictor(bert_embedding_size=192, hidden_size=128, cast_embedding_size=32, crew_embedding_size=16)"
      ]
    },
    {
      "cell_type": "code",
      "execution_count": 19,
      "metadata": {
        "colab": {
          "base_uri": "https://localhost:8080/"
        },
        "id": "b7OmIGa3PJjr",
        "outputId": "6956b2fb-c2a4-4fd5-da92-e704966c7a9f"
      },
      "outputs": [
        {
          "output_type": "stream",
          "name": "stdout",
          "text": [
            "Number of batches:  26\n",
            "Number of epochs:  10\n"
          ]
        }
      ],
      "source": [
        "NUM_BATCHES = len(train_dataloader)\n",
        "NUM_EPOCHS = 10\n",
        "print(\"Number of batches: \", NUM_BATCHES)\n",
        "print(\"Number of epochs: \", NUM_EPOCHS)"
      ]
    },
    {
      "cell_type": "code",
      "execution_count": 20,
      "metadata": {
        "colab": {
          "base_uri": "https://localhost:8080/"
        },
        "id": "-EBjQviMIMMO",
        "outputId": "baf95a43-e614-4aab-ccb6-f1c301742d46"
      },
      "outputs": [
        {
          "output_type": "stream",
          "name": "stderr",
          "text": [
            "/usr/local/lib/python3.10/dist-packages/transformers/optimization.py:411: FutureWarning: This implementation of AdamW is deprecated and will be removed in a future version. Use the PyTorch implementation torch.optim.AdamW instead, or set `no_deprecation_warning=True` to disable this warning\n",
            "  warnings.warn(\n"
          ]
        }
      ],
      "source": [
        "optimizer = AdamW(model.parameters(), lr=2e-4)\n",
        "loss_fn = nn.MSELoss()"
      ]
    },
    {
      "cell_type": "code",
      "execution_count": 21,
      "metadata": {
        "colab": {
          "base_uri": "https://localhost:8080/"
        },
        "id": "Tua5YY-HPJjr",
        "outputId": "c10b2276-3130-48b4-dedf-6dcf4fa5969f"
      },
      "outputs": [
        {
          "output_type": "stream",
          "name": "stdout",
          "text": [
            "Scheduler steps:  260\n"
          ]
        }
      ],
      "source": [
        "SCHEDULER_STEPS = NUM_BATCHES * NUM_EPOCHS\n",
        "SCHEDULER_WARMUP_STEPS = 250\n",
        "print(\"Scheduler steps: \", SCHEDULER_STEPS)\n",
        "scheduler = get_linear_schedule_with_warmup(optimizer, num_warmup_steps=250, num_training_steps=SCHEDULER_STEPS)"
      ]
    },
    {
      "cell_type": "code",
      "execution_count": 22,
      "metadata": {
        "colab": {
          "base_uri": "https://localhost:8080/"
        },
        "id": "dp8QuiJFISXV",
        "outputId": "8b0a17e0-a4b7-420e-d708-d01c10eab242"
      },
      "outputs": [
        {
          "output_type": "execute_result",
          "data": {
            "text/plain": [
              "RevenuePredictor(\n",
              "  (bert): BertModel(\n",
              "    (embeddings): BertEmbeddings(\n",
              "      (word_embeddings): Embedding(30522, 768, padding_idx=0)\n",
              "      (position_embeddings): Embedding(512, 768)\n",
              "      (token_type_embeddings): Embedding(2, 768)\n",
              "      (LayerNorm): LayerNorm((768,), eps=1e-12, elementwise_affine=True)\n",
              "      (dropout): Dropout(p=0.1, inplace=False)\n",
              "    )\n",
              "    (encoder): BertEncoder(\n",
              "      (layer): ModuleList(\n",
              "        (0-11): 12 x BertLayer(\n",
              "          (attention): BertAttention(\n",
              "            (self): BertSelfAttention(\n",
              "              (query): Linear(in_features=768, out_features=768, bias=True)\n",
              "              (key): Linear(in_features=768, out_features=768, bias=True)\n",
              "              (value): Linear(in_features=768, out_features=768, bias=True)\n",
              "              (dropout): Dropout(p=0.1, inplace=False)\n",
              "            )\n",
              "            (output): BertSelfOutput(\n",
              "              (dense): Linear(in_features=768, out_features=768, bias=True)\n",
              "              (LayerNorm): LayerNorm((768,), eps=1e-12, elementwise_affine=True)\n",
              "              (dropout): Dropout(p=0.1, inplace=False)\n",
              "            )\n",
              "          )\n",
              "          (intermediate): BertIntermediate(\n",
              "            (dense): Linear(in_features=768, out_features=3072, bias=True)\n",
              "            (intermediate_act_fn): GELUActivation()\n",
              "          )\n",
              "          (output): BertOutput(\n",
              "            (dense): Linear(in_features=3072, out_features=768, bias=True)\n",
              "            (LayerNorm): LayerNorm((768,), eps=1e-12, elementwise_affine=True)\n",
              "            (dropout): Dropout(p=0.1, inplace=False)\n",
              "          )\n",
              "        )\n",
              "      )\n",
              "    )\n",
              "    (pooler): BertPooler(\n",
              "      (dense): Linear(in_features=768, out_features=768, bias=True)\n",
              "      (activation): Tanh()\n",
              "    )\n",
              "  )\n",
              "  (linear_overview): Linear(in_features=768, out_features=192, bias=True)\n",
              "  (linear_cast): Linear(in_features=625, out_features=32, bias=True)\n",
              "  (linear_crew): Linear(in_features=326, out_features=16, bias=True)\n",
              "  (output_layer): Sequential(\n",
              "    (0): Linear(in_features=287, out_features=128, bias=True)\n",
              "    (1): ReLU(inplace=True)\n",
              "    (2): Linear(in_features=128, out_features=1, bias=True)\n",
              "  )\n",
              ")"
            ]
          },
          "metadata": {},
          "execution_count": 22
        }
      ],
      "source": [
        "model.to(DEVICE)"
      ]
    },
    {
      "cell_type": "code",
      "execution_count": 23,
      "metadata": {
        "id": "BzFz_TNPPJjr"
      },
      "outputs": [],
      "source": [
        "best_mse = float('inf')\n",
        "best_weights = None\n",
        "history = []"
      ]
    },
    {
      "cell_type": "code",
      "execution_count": 24,
      "metadata": {
        "id": "3CvpomTi62Gd"
      },
      "outputs": [],
      "source": [
        "MODEL_PATH = 'model_' + COUNTRY + '.pth'"
      ]
    },
    {
      "cell_type": "code",
      "execution_count": 25,
      "metadata": {
        "colab": {
          "base_uri": "https://localhost:8080/"
        },
        "id": "tMyWCZ7aIUq7",
        "outputId": "d54caa3c-abc8-4277-afaa-e994cda37545"
      },
      "outputs": [
        {
          "output_type": "stream",
          "name": "stderr",
          "text": [
            "Epoch 1: 100%|██████████| 26/26 [00:22<00:00,  1.14it/s, mseloss=0.0872]\n"
          ]
        },
        {
          "output_type": "stream",
          "name": "stdout",
          "text": [
            "MSE on test set after epoch  1 :  0.5701249241828918\n"
          ]
        },
        {
          "output_type": "stream",
          "name": "stderr",
          "text": [
            "Epoch 2: 100%|██████████| 26/26 [00:19<00:00,  1.31it/s, mseloss=0.313]\n"
          ]
        },
        {
          "output_type": "stream",
          "name": "stdout",
          "text": [
            "MSE on test set after epoch  2 :  0.5165919065475464\n"
          ]
        },
        {
          "output_type": "stream",
          "name": "stderr",
          "text": [
            "Epoch 3: 100%|██████████| 26/26 [00:20<00:00,  1.25it/s, mseloss=0.303]\n"
          ]
        },
        {
          "output_type": "stream",
          "name": "stdout",
          "text": [
            "MSE on test set after epoch  3 :  0.5137699842453003\n"
          ]
        },
        {
          "output_type": "stream",
          "name": "stderr",
          "text": [
            "Epoch 4: 100%|██████████| 26/26 [00:20<00:00,  1.24it/s, mseloss=0.394]\n"
          ]
        },
        {
          "output_type": "stream",
          "name": "stdout",
          "text": [
            "MSE on test set after epoch  4 :  0.5344127416610718\n"
          ]
        },
        {
          "output_type": "stream",
          "name": "stderr",
          "text": [
            "Epoch 5: 100%|██████████| 26/26 [00:19<00:00,  1.30it/s, mseloss=1.36]\n"
          ]
        },
        {
          "output_type": "stream",
          "name": "stdout",
          "text": [
            "MSE on test set after epoch  5 :  0.5744285583496094\n"
          ]
        },
        {
          "output_type": "stream",
          "name": "stderr",
          "text": [
            "Epoch 6: 100%|██████████| 26/26 [00:20<00:00,  1.28it/s, mseloss=0.714]\n"
          ]
        },
        {
          "output_type": "stream",
          "name": "stdout",
          "text": [
            "MSE on test set after epoch  6 :  0.7055453658103943\n"
          ]
        },
        {
          "output_type": "stream",
          "name": "stderr",
          "text": [
            "Epoch 7: 100%|██████████| 26/26 [00:20<00:00,  1.27it/s, mseloss=0.0509]\n"
          ]
        },
        {
          "output_type": "stream",
          "name": "stdout",
          "text": [
            "MSE on test set after epoch  7 :  0.578827440738678\n"
          ]
        },
        {
          "output_type": "stream",
          "name": "stderr",
          "text": [
            "Epoch 8: 100%|██████████| 26/26 [00:20<00:00,  1.29it/s, mseloss=0.264]\n"
          ]
        },
        {
          "output_type": "stream",
          "name": "stdout",
          "text": [
            "MSE on test set after epoch  8 :  0.5937979221343994\n"
          ]
        },
        {
          "output_type": "stream",
          "name": "stderr",
          "text": [
            "Epoch 9: 100%|██████████| 26/26 [00:21<00:00,  1.24it/s, mseloss=0.0242]\n"
          ]
        },
        {
          "output_type": "stream",
          "name": "stdout",
          "text": [
            "MSE on test set after epoch  9 :  0.5625833868980408\n"
          ]
        },
        {
          "output_type": "stream",
          "name": "stderr",
          "text": [
            "Epoch 10: 100%|██████████| 26/26 [00:21<00:00,  1.20it/s, mseloss=0.302]\n"
          ]
        },
        {
          "output_type": "stream",
          "name": "stdout",
          "text": [
            "MSE on test set after epoch  10 :  0.5531659126281738\n"
          ]
        }
      ],
      "source": [
        "for epoch in range(NUM_EPOCHS):\n",
        "    model.train()\n",
        "    loop = tqdm(train_dataloader)\n",
        "    loop.set_description(f\"Epoch {epoch + 1}\")\n",
        "    for x, y in loop:\n",
        "        optimizer.zero_grad()\n",
        "\n",
        "        predictions = model(x)\n",
        "        loss = loss_fn(predictions, y.unsqueeze(1))\n",
        "\n",
        "        loss.backward()\n",
        "        torch.nn.utils.clip_grad_norm_(model.parameters(), max_norm=1.0)\n",
        "\n",
        "        optimizer.step()\n",
        "        scheduler.step()\n",
        "\n",
        "        loop.set_postfix(mseloss=loss.item())\n",
        "\n",
        "    # Evaluate on test set\n",
        "    model.eval()\n",
        "    preds = []\n",
        "    actuals = []\n",
        "    with torch.no_grad():\n",
        "        for x, y in test_dataloader:\n",
        "            predictions = model(x)\n",
        "            preds.extend(predictions.squeeze().tolist())\n",
        "            actuals.extend(y.tolist())\n",
        "    mse = loss_fn(torch.tensor(preds).unsqueeze(1), torch.tensor(actuals).unsqueeze(1)).item()\n",
        "    print(\"MSE on test set after epoch \", epoch + 1, \": \", mse)\n",
        "    history.append(mse)\n",
        "    if mse < best_mse:\n",
        "        best_mse = mse\n",
        "        torch.save(model.state_dict(), MODEL_PATH)"
      ]
    },
    {
      "cell_type": "code",
      "execution_count": 26,
      "metadata": {
        "colab": {
          "base_uri": "https://localhost:8080/"
        },
        "id": "eiHSvUjNfcnp",
        "outputId": "dcc0285c-fab5-493b-ab7a-0f2919276161"
      },
      "outputs": [
        {
          "output_type": "stream",
          "name": "stdout",
          "text": [
            "[0.5701249241828918, 0.5165919065475464, 0.5137699842453003, 0.5344127416610718, 0.5744285583496094, 0.7055453658103943, 0.578827440738678, 0.5937979221343994, 0.5625833868980408, 0.5531659126281738]\n",
            "Best model saved at  model_Netherlands.pth  with MSE  0.5137699842453003 . MAKE SURE TO DOWNLOAD!\n"
          ]
        }
      ],
      "source": [
        "# Print history\n",
        "print(history)\n",
        "print(\"Best model saved at \", MODEL_PATH, \" with MSE \", best_mse, \". MAKE SURE TO DOWNLOAD!\")"
      ]
    },
    {
      "cell_type": "code",
      "execution_count": 27,
      "metadata": {
        "colab": {
          "base_uri": "https://localhost:8080/",
          "height": 472
        },
        "id": "c3czxH3ogXpm",
        "outputId": "4ec8b7ce-d1be-465b-b36c-beaa54de8370"
      },
      "outputs": [
        {
          "output_type": "display_data",
          "data": {
            "text/plain": [
              "<Figure size 640x480 with 1 Axes>"
            ],
            "image/png": "[encoded data removed]"
          },
          "metadata": {}
        }
      ],
      "source": [
        "# Plot loss history\n",
        "plt.plot(history)\n",
        "plt.xlabel('Epoch')\n",
        "plt.ylabel('MSE Loss')\n",
        "plt.title('Loss curve')\n",
        "plt.show()"
      ]
    },
    {
      "cell_type": "code",
      "execution_count": 28,
      "metadata": {
        "colab": {
          "base_uri": "https://localhost:8080/"
        },
        "id": "mVIouFAoVsDD",
        "outputId": "21ff9447-7876-4578-d2ba-0b697539a2a4"
      },
      "outputs": [
        {
          "output_type": "stream",
          "name": "stdout",
          "text": [
            "Scale the predictions by  2.8133957325581394  to get the predicted revenue in Millions\n"
          ]
        }
      ],
      "source": [
        "print(\"Scale the predictions by \", REVENUE_SCALE, \" to get the predicted revenue in Millions\")"
      ]
    }
  ],
  "metadata": {
    "accelerator": "GPU",
    "colab": {
      "gpuType": "T4",
      "provenance": []
    },
    "kernelspec": {
      "display_name": "Python 3",
      "name": "python3"
    },
    "language_info": {
      "codemirror_mode": {
        "name": "ipython",
        "version": 3
      },
      "file_extension": ".py",
      "mimetype": "text/x-python",
      "name": "python",
      "nbconvert_exporter": "python",
      "pygments_lexer": "ipython3",
      "version": "3.9.1"
    }
  },
  "nbformat": 4,
  "nbformat_minor": 0
}